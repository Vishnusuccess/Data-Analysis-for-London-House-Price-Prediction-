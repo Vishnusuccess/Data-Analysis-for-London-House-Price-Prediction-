{
 "cells": [
  {
   "cell_type": "markdown",
   "id": "e1daf260",
   "metadata": {},
   "source": [
    "## PART 1: LOAD AND PREPARE THE DATA"
   ]
  },
  {
   "cell_type": "code",
   "execution_count": 56,
   "id": "4e497648",
   "metadata": {},
   "outputs": [],
   "source": [
    "import pandas as pd\n",
    "import numpy as np\n",
    "import matplotlib.pyplot as plt\n",
    "import scipy.stats as stats\n",
    "import seaborn as sns\n",
    "import datetime"
   ]
  },
  {
   "cell_type": "markdown",
   "id": "20a90d49",
   "metadata": {},
   "source": [
    "## DATA PREPARATION"
   ]
  },
  {
   "cell_type": "code",
   "execution_count": 67,
   "id": "975d73e4",
   "metadata": {},
   "outputs": [
    {
     "data": {
      "text/html": [
       "<div>\n",
       "<style scoped>\n",
       "    .dataframe tbody tr th:only-of-type {\n",
       "        vertical-align: middle;\n",
       "    }\n",
       "\n",
       "    .dataframe tbody tr th {\n",
       "        vertical-align: top;\n",
       "    }\n",
       "\n",
       "    .dataframe thead th {\n",
       "        text-align: right;\n",
       "    }\n",
       "</style>\n",
       "<table border=\"1\" class=\"dataframe\">\n",
       "  <thead>\n",
       "    <tr style=\"text-align: right;\">\n",
       "      <th></th>\n",
       "      <th>Date</th>\n",
       "      <th>Area</th>\n",
       "      <th>Code</th>\n",
       "      <th>Detached</th>\n",
       "      <th>Semi</th>\n",
       "      <th>Terraced</th>\n",
       "      <th>Flat</th>\n",
       "    </tr>\n",
       "  </thead>\n",
       "  <tbody>\n",
       "    <tr>\n",
       "      <th>0</th>\n",
       "      <td>01/09/2016</td>\n",
       "      <td>Hartlepool</td>\n",
       "      <td>E06000001</td>\n",
       "      <td>179323.3934</td>\n",
       "      <td>108357.4457</td>\n",
       "      <td>77192.90613</td>\n",
       "      <td>62078.20672</td>\n",
       "    </tr>\n",
       "    <tr>\n",
       "      <th>1</th>\n",
       "      <td>01/10/2016</td>\n",
       "      <td>Hartlepool</td>\n",
       "      <td>E06000001</td>\n",
       "      <td>178880.9745</td>\n",
       "      <td>107765.1346</td>\n",
       "      <td>76294.05974</td>\n",
       "      <td>61893.84174</td>\n",
       "    </tr>\n",
       "    <tr>\n",
       "      <th>2</th>\n",
       "      <td>01/11/2016</td>\n",
       "      <td>Hartlepool</td>\n",
       "      <td>E06000001</td>\n",
       "      <td>179855.0608</td>\n",
       "      <td>107886.9468</td>\n",
       "      <td>76066.73993</td>\n",
       "      <td>61909.33647</td>\n",
       "    </tr>\n",
       "    <tr>\n",
       "      <th>3</th>\n",
       "      <td>01/12/2016</td>\n",
       "      <td>Hartlepool</td>\n",
       "      <td>E06000001</td>\n",
       "      <td>182847.8194</td>\n",
       "      <td>109312.3743</td>\n",
       "      <td>77019.16134</td>\n",
       "      <td>62919.44401</td>\n",
       "    </tr>\n",
       "    <tr>\n",
       "      <th>4</th>\n",
       "      <td>01/01/2017</td>\n",
       "      <td>Hartlepool</td>\n",
       "      <td>E06000001</td>\n",
       "      <td>177454.1433</td>\n",
       "      <td>105828.3642</td>\n",
       "      <td>74522.27530</td>\n",
       "      <td>60770.80795</td>\n",
       "    </tr>\n",
       "  </tbody>\n",
       "</table>\n",
       "</div>"
      ],
      "text/plain": [
       "         Date        Area       Code     Detached         Semi     Terraced  \\\n",
       "0  01/09/2016  Hartlepool  E06000001  179323.3934  108357.4457  77192.90613   \n",
       "1  01/10/2016  Hartlepool  E06000001  178880.9745  107765.1346  76294.05974   \n",
       "2  01/11/2016  Hartlepool  E06000001  179855.0608  107886.9468  76066.73993   \n",
       "3  01/12/2016  Hartlepool  E06000001  182847.8194  109312.3743  77019.16134   \n",
       "4  01/01/2017  Hartlepool  E06000001  177454.1433  105828.3642  74522.27530   \n",
       "\n",
       "          Flat  \n",
       "0  62078.20672  \n",
       "1  61893.84174  \n",
       "2  61909.33647  \n",
       "3  62919.44401  \n",
       "4  60770.80795  "
      ]
     },
     "execution_count": 67,
     "metadata": {},
     "output_type": "execute_result"
    }
   ],
   "source": [
    "df_prices=pd.read_csv('Downloads/average-property-price.csv')\n",
    "df_location=pd.read_csv('Downloads/location-codes.csv')\n",
    "df_prices.head()"
   ]
  },
  {
   "cell_type": "code",
   "execution_count": 3,
   "id": "a61d214f",
   "metadata": {},
   "outputs": [
    {
     "data": {
      "text/html": [
       "<div>\n",
       "<style scoped>\n",
       "    .dataframe tbody tr th:only-of-type {\n",
       "        vertical-align: middle;\n",
       "    }\n",
       "\n",
       "    .dataframe tbody tr th {\n",
       "        vertical-align: top;\n",
       "    }\n",
       "\n",
       "    .dataframe thead th {\n",
       "        text-align: right;\n",
       "    }\n",
       "</style>\n",
       "<table border=\"1\" class=\"dataframe\">\n",
       "  <thead>\n",
       "    <tr style=\"text-align: right;\">\n",
       "      <th></th>\n",
       "      <th>Area</th>\n",
       "      <th>Code</th>\n",
       "      <th>Detached</th>\n",
       "      <th>Semi</th>\n",
       "      <th>Terraced</th>\n",
       "      <th>Flat</th>\n",
       "      <th>Month</th>\n",
       "    </tr>\n",
       "  </thead>\n",
       "  <tbody>\n",
       "    <tr>\n",
       "      <th>5436</th>\n",
       "      <td>North East</td>\n",
       "      <td>E12000001</td>\n",
       "      <td>208117.1739</td>\n",
       "      <td>125683.3380</td>\n",
       "      <td>101385.68860</td>\n",
       "      <td>89361.51412</td>\n",
       "      <td>2016-09-01</td>\n",
       "    </tr>\n",
       "    <tr>\n",
       "      <th>5437</th>\n",
       "      <td>North East</td>\n",
       "      <td>E12000001</td>\n",
       "      <td>208519.1158</td>\n",
       "      <td>125464.3201</td>\n",
       "      <td>99998.54363</td>\n",
       "      <td>89716.48508</td>\n",
       "      <td>2016-10-01</td>\n",
       "    </tr>\n",
       "    <tr>\n",
       "      <th>5438</th>\n",
       "      <td>North East</td>\n",
       "      <td>E12000001</td>\n",
       "      <td>210555.4948</td>\n",
       "      <td>126082.1090</td>\n",
       "      <td>100433.81080</td>\n",
       "      <td>90065.71739</td>\n",
       "      <td>2016-11-01</td>\n",
       "    </tr>\n",
       "    <tr>\n",
       "      <th>5439</th>\n",
       "      <td>North East</td>\n",
       "      <td>E12000001</td>\n",
       "      <td>211728.7243</td>\n",
       "      <td>127186.0647</td>\n",
       "      <td>102150.75450</td>\n",
       "      <td>91195.50119</td>\n",
       "      <td>2016-12-01</td>\n",
       "    </tr>\n",
       "    <tr>\n",
       "      <th>5440</th>\n",
       "      <td>North East</td>\n",
       "      <td>E12000001</td>\n",
       "      <td>205942.7099</td>\n",
       "      <td>123088.4533</td>\n",
       "      <td>98112.30132</td>\n",
       "      <td>88170.43214</td>\n",
       "      <td>2017-01-01</td>\n",
       "    </tr>\n",
       "  </tbody>\n",
       "</table>\n",
       "</div>"
      ],
      "text/plain": [
       "            Area       Code     Detached         Semi      Terraced  \\\n",
       "5436  North East  E12000001  208117.1739  125683.3380  101385.68860   \n",
       "5437  North East  E12000001  208519.1158  125464.3201   99998.54363   \n",
       "5438  North East  E12000001  210555.4948  126082.1090  100433.81080   \n",
       "5439  North East  E12000001  211728.7243  127186.0647  102150.75450   \n",
       "5440  North East  E12000001  205942.7099  123088.4533   98112.30132   \n",
       "\n",
       "             Flat      Month  \n",
       "5436  89361.51412 2016-09-01  \n",
       "5437  89716.48508 2016-10-01  \n",
       "5438  90065.71739 2016-11-01  \n",
       "5439  91195.50119 2016-12-01  \n",
       "5440  88170.43214 2017-01-01  "
      ]
     },
     "execution_count": 3,
     "metadata": {},
     "output_type": "execute_result"
    }
   ],
   "source": [
    "df_region=df_prices.loc[df_prices['Code'].str.contains('E12')]\n",
    "df_region\n",
    "df_region = df_region.assign(Month = pd.to_datetime(\n",
    "df_region['Date'], dayfirst=True)).drop(labels='Date', axis=1)\n",
    "df_region.head()"
   ]
  },
  {
   "cell_type": "code",
   "execution_count": 4,
   "id": "dbf31696",
   "metadata": {},
   "outputs": [
    {
     "data": {
      "text/html": [
       "<div>\n",
       "<style scoped>\n",
       "    .dataframe tbody tr th:only-of-type {\n",
       "        vertical-align: middle;\n",
       "    }\n",
       "\n",
       "    .dataframe tbody tr th {\n",
       "        vertical-align: top;\n",
       "    }\n",
       "\n",
       "    .dataframe thead th {\n",
       "        text-align: right;\n",
       "    }\n",
       "</style>\n",
       "<table border=\"1\" class=\"dataframe\">\n",
       "  <thead>\n",
       "    <tr style=\"text-align: right;\">\n",
       "      <th></th>\n",
       "      <th>Date</th>\n",
       "      <th>Area</th>\n",
       "      <th>Code</th>\n",
       "      <th>Detached</th>\n",
       "      <th>Semi</th>\n",
       "      <th>Terraced</th>\n",
       "      <th>Flat</th>\n",
       "    </tr>\n",
       "  </thead>\n",
       "  <tbody>\n",
       "    <tr>\n",
       "      <th>0</th>\n",
       "      <td>01/09/2016</td>\n",
       "      <td>Hartlepool</td>\n",
       "      <td>E06000001</td>\n",
       "      <td>179323.3934</td>\n",
       "      <td>108357.4457</td>\n",
       "      <td>77192.90613</td>\n",
       "      <td>62078.20672</td>\n",
       "    </tr>\n",
       "    <tr>\n",
       "      <th>1</th>\n",
       "      <td>01/10/2016</td>\n",
       "      <td>Hartlepool</td>\n",
       "      <td>E06000001</td>\n",
       "      <td>178880.9745</td>\n",
       "      <td>107765.1346</td>\n",
       "      <td>76294.05974</td>\n",
       "      <td>61893.84174</td>\n",
       "    </tr>\n",
       "    <tr>\n",
       "      <th>2</th>\n",
       "      <td>01/11/2016</td>\n",
       "      <td>Hartlepool</td>\n",
       "      <td>E06000001</td>\n",
       "      <td>179855.0608</td>\n",
       "      <td>107886.9468</td>\n",
       "      <td>76066.73993</td>\n",
       "      <td>61909.33647</td>\n",
       "    </tr>\n",
       "    <tr>\n",
       "      <th>3</th>\n",
       "      <td>01/12/2016</td>\n",
       "      <td>Hartlepool</td>\n",
       "      <td>E06000001</td>\n",
       "      <td>182847.8194</td>\n",
       "      <td>109312.3743</td>\n",
       "      <td>77019.16134</td>\n",
       "      <td>62919.44401</td>\n",
       "    </tr>\n",
       "    <tr>\n",
       "      <th>4</th>\n",
       "      <td>01/01/2017</td>\n",
       "      <td>Hartlepool</td>\n",
       "      <td>E06000001</td>\n",
       "      <td>177454.1433</td>\n",
       "      <td>105828.3642</td>\n",
       "      <td>74522.27530</td>\n",
       "      <td>60770.80795</td>\n",
       "    </tr>\n",
       "  </tbody>\n",
       "</table>\n",
       "</div>"
      ],
      "text/plain": [
       "         Date        Area       Code     Detached         Semi     Terraced  \\\n",
       "0  01/09/2016  Hartlepool  E06000001  179323.3934  108357.4457  77192.90613   \n",
       "1  01/10/2016  Hartlepool  E06000001  178880.9745  107765.1346  76294.05974   \n",
       "2  01/11/2016  Hartlepool  E06000001  179855.0608  107886.9468  76066.73993   \n",
       "3  01/12/2016  Hartlepool  E06000001  182847.8194  109312.3743  77019.16134   \n",
       "4  01/01/2017  Hartlepool  E06000001  177454.1433  105828.3642  74522.27530   \n",
       "\n",
       "          Flat  \n",
       "0  62078.20672  \n",
       "1  61893.84174  \n",
       "2  61909.33647  \n",
       "3  62919.44401  \n",
       "4  60770.80795  "
      ]
     },
     "execution_count": 4,
     "metadata": {},
     "output_type": "execute_result"
    }
   ],
   "source": [
    "df_area=df_prices.loc[0:5435]\n",
    "df_area.head()"
   ]
  },
  {
   "cell_type": "markdown",
   "id": "901a7abd",
   "metadata": {},
   "source": [
    "## MERGING A COLUMN TO MAKE A NEW DATAFRAME"
   ]
  },
  {
   "cell_type": "code",
   "execution_count": 5,
   "id": "c0a1e371",
   "metadata": {},
   "outputs": [
    {
     "data": {
      "text/html": [
       "<div>\n",
       "<style scoped>\n",
       "    .dataframe tbody tr th:only-of-type {\n",
       "        vertical-align: middle;\n",
       "    }\n",
       "\n",
       "    .dataframe tbody tr th {\n",
       "        vertical-align: top;\n",
       "    }\n",
       "\n",
       "    .dataframe thead th {\n",
       "        text-align: right;\n",
       "    }\n",
       "</style>\n",
       "<table border=\"1\" class=\"dataframe\">\n",
       "  <thead>\n",
       "    <tr style=\"text-align: right;\">\n",
       "      <th></th>\n",
       "      <th>Date</th>\n",
       "      <th>Area</th>\n",
       "      <th>Code</th>\n",
       "      <th>Detached</th>\n",
       "      <th>Semi</th>\n",
       "      <th>Terraced</th>\n",
       "      <th>Flat</th>\n",
       "      <th>RegionName</th>\n",
       "    </tr>\n",
       "  </thead>\n",
       "  <tbody>\n",
       "    <tr>\n",
       "      <th>0</th>\n",
       "      <td>01/09/2016</td>\n",
       "      <td>Hartlepool</td>\n",
       "      <td>E06000001</td>\n",
       "      <td>179323.3934</td>\n",
       "      <td>108357.4457</td>\n",
       "      <td>77192.90613</td>\n",
       "      <td>62078.20672</td>\n",
       "      <td>North East</td>\n",
       "    </tr>\n",
       "    <tr>\n",
       "      <th>1</th>\n",
       "      <td>01/10/2016</td>\n",
       "      <td>Hartlepool</td>\n",
       "      <td>E06000001</td>\n",
       "      <td>178880.9745</td>\n",
       "      <td>107765.1346</td>\n",
       "      <td>76294.05974</td>\n",
       "      <td>61893.84174</td>\n",
       "      <td>North East</td>\n",
       "    </tr>\n",
       "    <tr>\n",
       "      <th>2</th>\n",
       "      <td>01/11/2016</td>\n",
       "      <td>Hartlepool</td>\n",
       "      <td>E06000001</td>\n",
       "      <td>179855.0608</td>\n",
       "      <td>107886.9468</td>\n",
       "      <td>76066.73993</td>\n",
       "      <td>61909.33647</td>\n",
       "      <td>North East</td>\n",
       "    </tr>\n",
       "    <tr>\n",
       "      <th>3</th>\n",
       "      <td>01/12/2016</td>\n",
       "      <td>Hartlepool</td>\n",
       "      <td>E06000001</td>\n",
       "      <td>182847.8194</td>\n",
       "      <td>109312.3743</td>\n",
       "      <td>77019.16134</td>\n",
       "      <td>62919.44401</td>\n",
       "      <td>North East</td>\n",
       "    </tr>\n",
       "    <tr>\n",
       "      <th>4</th>\n",
       "      <td>01/01/2017</td>\n",
       "      <td>Hartlepool</td>\n",
       "      <td>E06000001</td>\n",
       "      <td>177454.1433</td>\n",
       "      <td>105828.3642</td>\n",
       "      <td>74522.27530</td>\n",
       "      <td>60770.80795</td>\n",
       "      <td>North East</td>\n",
       "    </tr>\n",
       "    <tr>\n",
       "      <th>...</th>\n",
       "      <td>...</td>\n",
       "      <td>...</td>\n",
       "      <td>...</td>\n",
       "      <td>...</td>\n",
       "      <td>...</td>\n",
       "      <td>...</td>\n",
       "      <td>...</td>\n",
       "      <td>...</td>\n",
       "    </tr>\n",
       "    <tr>\n",
       "      <th>5431</th>\n",
       "      <td>01/04/2019</td>\n",
       "      <td>Worcestershire</td>\n",
       "      <td>E10000034</td>\n",
       "      <td>367609.8101</td>\n",
       "      <td>223579.8115</td>\n",
       "      <td>175790.42090</td>\n",
       "      <td>129009.66830</td>\n",
       "      <td>West Midlands</td>\n",
       "    </tr>\n",
       "    <tr>\n",
       "      <th>5432</th>\n",
       "      <td>01/05/2019</td>\n",
       "      <td>Worcestershire</td>\n",
       "      <td>E10000034</td>\n",
       "      <td>365271.8235</td>\n",
       "      <td>222863.2382</td>\n",
       "      <td>175373.24490</td>\n",
       "      <td>128117.93010</td>\n",
       "      <td>West Midlands</td>\n",
       "    </tr>\n",
       "    <tr>\n",
       "      <th>5433</th>\n",
       "      <td>01/06/2019</td>\n",
       "      <td>Worcestershire</td>\n",
       "      <td>E10000034</td>\n",
       "      <td>369772.6445</td>\n",
       "      <td>225435.2225</td>\n",
       "      <td>177094.03750</td>\n",
       "      <td>129593.06920</td>\n",
       "      <td>West Midlands</td>\n",
       "    </tr>\n",
       "    <tr>\n",
       "      <th>5434</th>\n",
       "      <td>01/07/2019</td>\n",
       "      <td>Worcestershire</td>\n",
       "      <td>E10000034</td>\n",
       "      <td>371129.2027</td>\n",
       "      <td>225763.4806</td>\n",
       "      <td>177371.34880</td>\n",
       "      <td>129684.34220</td>\n",
       "      <td>West Midlands</td>\n",
       "    </tr>\n",
       "    <tr>\n",
       "      <th>5435</th>\n",
       "      <td>01/08/2019</td>\n",
       "      <td>Worcestershire</td>\n",
       "      <td>E10000034</td>\n",
       "      <td>375018.4716</td>\n",
       "      <td>227014.1308</td>\n",
       "      <td>178440.82590</td>\n",
       "      <td>129242.39630</td>\n",
       "      <td>West Midlands</td>\n",
       "    </tr>\n",
       "  </tbody>\n",
       "</table>\n",
       "<p>5436 rows × 8 columns</p>\n",
       "</div>"
      ],
      "text/plain": [
       "            Date            Area       Code     Detached         Semi  \\\n",
       "0     01/09/2016      Hartlepool  E06000001  179323.3934  108357.4457   \n",
       "1     01/10/2016      Hartlepool  E06000001  178880.9745  107765.1346   \n",
       "2     01/11/2016      Hartlepool  E06000001  179855.0608  107886.9468   \n",
       "3     01/12/2016      Hartlepool  E06000001  182847.8194  109312.3743   \n",
       "4     01/01/2017      Hartlepool  E06000001  177454.1433  105828.3642   \n",
       "...          ...             ...        ...          ...          ...   \n",
       "5431  01/04/2019  Worcestershire  E10000034  367609.8101  223579.8115   \n",
       "5432  01/05/2019  Worcestershire  E10000034  365271.8235  222863.2382   \n",
       "5433  01/06/2019  Worcestershire  E10000034  369772.6445  225435.2225   \n",
       "5434  01/07/2019  Worcestershire  E10000034  371129.2027  225763.4806   \n",
       "5435  01/08/2019  Worcestershire  E10000034  375018.4716  227014.1308   \n",
       "\n",
       "          Terraced          Flat     RegionName  \n",
       "0      77192.90613   62078.20672     North East  \n",
       "1      76294.05974   61893.84174     North East  \n",
       "2      76066.73993   61909.33647     North East  \n",
       "3      77019.16134   62919.44401     North East  \n",
       "4      74522.27530   60770.80795     North East  \n",
       "...            ...           ...            ...  \n",
       "5431  175790.42090  129009.66830  West Midlands  \n",
       "5432  175373.24490  128117.93010  West Midlands  \n",
       "5433  177094.03750  129593.06920  West Midlands  \n",
       "5434  177371.34880  129684.34220  West Midlands  \n",
       "5435  178440.82590  129242.39630  West Midlands  \n",
       "\n",
       "[5436 rows x 8 columns]"
      ]
     },
     "execution_count": 5,
     "metadata": {},
     "output_type": "execute_result"
    }
   ],
   "source": [
    "df_area = df_area.merge(df_location[['AuthorityCode','RegionName']],left_on='Code',right_on='AuthorityCode')\n",
    "df_area=df_area.drop(['AuthorityCode'],axis=1)\n",
    "df_area"
   ]
  },
  {
   "cell_type": "code",
   "execution_count": 6,
   "id": "a2fdf475",
   "metadata": {},
   "outputs": [
    {
     "data": {
      "text/plain": [
       "Date           0\n",
       "Area           0\n",
       "Code           0\n",
       "Detached      36\n",
       "Semi          36\n",
       "Terraced      20\n",
       "Flat           0\n",
       "RegionName     0\n",
       "dtype: int64"
      ]
     },
     "execution_count": 6,
     "metadata": {},
     "output_type": "execute_result"
    }
   ],
   "source": [
    "df_area.isnull().sum()"
   ]
  },
  {
   "cell_type": "code",
   "execution_count": 7,
   "id": "bf1cf729",
   "metadata": {},
   "outputs": [
    {
     "data": {
      "text/plain": [
       "(5436, 8)"
      ]
     },
     "execution_count": 7,
     "metadata": {},
     "output_type": "execute_result"
    }
   ],
   "source": [
    "df_area.shape"
   ]
  },
  {
   "cell_type": "code",
   "execution_count": 8,
   "id": "286763c8",
   "metadata": {},
   "outputs": [
    {
     "name": "stdout",
     "output_type": "stream",
     "text": [
      "<class 'pandas.core.frame.DataFrame'>\n",
      "Int64Index: 5436 entries, 0 to 5435\n",
      "Data columns (total 8 columns):\n",
      " #   Column      Non-Null Count  Dtype  \n",
      "---  ------      --------------  -----  \n",
      " 0   Date        5436 non-null   object \n",
      " 1   Area        5436 non-null   object \n",
      " 2   Code        5436 non-null   object \n",
      " 3   Detached    5400 non-null   float64\n",
      " 4   Semi        5400 non-null   float64\n",
      " 5   Terraced    5416 non-null   float64\n",
      " 6   Flat        5436 non-null   float64\n",
      " 7   RegionName  5436 non-null   object \n",
      "dtypes: float64(4), object(4)\n",
      "memory usage: 382.2+ KB\n"
     ]
    }
   ],
   "source": [
    "df_area.info()"
   ]
  },
  {
   "cell_type": "markdown",
   "id": "2223ae76",
   "metadata": {},
   "source": [
    "## MISSING VALUE TREATMENT"
   ]
  },
  {
   "cell_type": "code",
   "execution_count": 68,
   "id": "83ee66fd",
   "metadata": {},
   "outputs": [
    {
     "data": {
      "image/png": "[encoded data removed]",
      "text/plain": [
       "<Figure size 432x288 with 1 Axes>"
      ]
     },
     "metadata": {
      "needs_background": "light"
     },
     "output_type": "display_data"
    }
   ],
   "source": [
    "df_area.boxplot()\n",
    "ax = sns.boxplot(data=df_area)\n",
    "plt.show()"
   ]
  },
  {
   "cell_type": "code",
   "execution_count": 69,
   "id": "363a1580",
   "metadata": {},
   "outputs": [
    {
     "data": {
      "text/plain": [
       "Area          0\n",
       "Code          0\n",
       "Detached      0\n",
       "Semi          0\n",
       "Terraced      0\n",
       "Flat          0\n",
       "RegionName    0\n",
       "Month         0\n",
       "dtype: int64"
      ]
     },
     "execution_count": 69,
     "metadata": {},
     "output_type": "execute_result"
    }
   ],
   "source": [
    "df_area['Detached'].fillna(df_area.Detached.median(), inplace=True)\n",
    "df_area['Semi'].fillna(df_area.Semi.median(), inplace=True)\n",
    "df_area['Terraced'].fillna(df_area.Terraced.median(), inplace=True)\n",
    "\n",
    "df_area.isnull().sum()"
   ]
  },
  {
   "cell_type": "markdown",
   "id": "5ff25db9",
   "metadata": {},
   "source": [
    "Mean — When the data has no outliers. Mean is the average value and Mean will be affected by outliers.\n",
    "\n",
    "Median — When the data has more outliers, it's best to replace them with the median value. Median is the middle value (50%)\n",
    "\n",
    "The features have less missing values and the features have more outliers the missing values are treated with median of the each features."
   ]
  },
  {
   "cell_type": "markdown",
   "id": "3465c398",
   "metadata": {},
   "source": [
    "## PART 2: PLOTTING THE TRENDS"
   ]
  },
  {
   "cell_type": "code",
   "execution_count": 11,
   "id": "71cfd283",
   "metadata": {},
   "outputs": [
    {
     "data": {
      "text/plain": [
       "<AxesSubplot:xlabel='Month', ylabel='Detached'>"
      ]
     },
     "execution_count": 11,
     "metadata": {},
     "output_type": "execute_result"
    },
    {
     "data": {
      "image/png": "[encoded data removed]",
      "text/plain": [
       "<Figure size 432x288 with 1 Axes>"
      ]
     },
     "metadata": {
      "needs_background": "light"
     },
     "output_type": "display_data"
    }
   ],
   "source": [
    "sns.lineplot(x='Month',y='Detached',hue='Area',data=df_region)"
   ]
  },
  {
   "cell_type": "code",
   "execution_count": 60,
   "id": "acca6fec",
   "metadata": {},
   "outputs": [
    {
     "data": {
      "text/plain": [
       "<AxesSubplot:xlabel='Month', ylabel='Detached'>"
      ]
     },
     "execution_count": 60,
     "metadata": {},
     "output_type": "execute_result"
    },
    {
     "data": {
      "image/png": "[encoded data removed]",
      "text/plain": [
       "<Figure size 432x288 with 1 Axes>"
      ]
     },
     "metadata": {
      "needs_background": "light"
     },
     "output_type": "display_data"
    }
   ],
   "source": [
    "sns.scatterplot(x='Month',y='Detached',hue='Area',data=df_region)"
   ]
  },
  {
   "cell_type": "code",
   "execution_count": 62,
   "id": "70ac3ced",
   "metadata": {},
   "outputs": [
    {
     "data": {
      "text/plain": [
       "<AxesSubplot:xlabel='Month', ylabel='Flat'>"
      ]
     },
     "execution_count": 62,
     "metadata": {},
     "output_type": "execute_result"
    },
    {
     "data": {
      "image/png": "[encoded data removed]",
      "text/plain": [
       "<Figure size 432x288 with 1 Axes>"
      ]
     },
     "metadata": {
      "needs_background": "light"
     },
     "output_type": "display_data"
    }
   ],
   "source": [
    "sns.lineplot(x='Month',y='Flat',hue='Area',data=df_region)"
   ]
  },
  {
   "cell_type": "code",
   "execution_count": 14,
   "id": "16462fa3",
   "metadata": {},
   "outputs": [
    {
     "data": {
      "text/plain": [
       "<AxesSubplot:xlabel='Month', ylabel='Flat'>"
      ]
     },
     "execution_count": 14,
     "metadata": {},
     "output_type": "execute_result"
    },
    {
     "data": {
      "image/png": "[encoded data removed]",
      "text/plain": [
       "<Figure size 432x288 with 1 Axes>"
      ]
     },
     "metadata": {
      "needs_background": "light"
     },
     "output_type": "display_data"
    }
   ],
   "source": [
    "sns.scatterplot(x='Month',y='Flat',hue='Area',data=df_region)"
   ]
  },
  {
   "cell_type": "markdown",
   "id": "5684eb33",
   "metadata": {},
   "source": [
    "The trends shown in the plot is between the 9 regions with change in Detached with Month and Flats with Month.\n",
    "The trends shows that in the detached properties there is a little change with the price with respective months and the regions.\n",
    "The distached property are the houses which is a villa with a lot of space inside and is prices more according to the square feet,\n",
    "and with highest price in lONDON.\n",
    "And the flat is a house , prices in the range between 100000 to 450000.with highest price in London.\n",
    "There are changes in the prices overall in each month, in which london stands high in both the properties and \n",
    "Northeast Region prices less compared to all others.\n",
    "\n",
    "The highest price of flats is in London and the Detached starts with the similar price in East of England.Therefore, Buying a detached property in that region is resonable.\n",
    "\n",
    "And the prices almost overlaps for detached in North east and flats in Sount West and Sount East , And for Detached the prices ranges from 200000 to 900000 over the months.\n"
   ]
  },
  {
   "cell_type": "markdown",
   "id": "20b75dac",
   "metadata": {},
   "source": [
    "## PART 3: PRICE CHANGES"
   ]
  },
  {
   "cell_type": "code",
   "execution_count": 15,
   "id": "eb28e59a",
   "metadata": {},
   "outputs": [
    {
     "data": {
      "text/html": [
       "<div>\n",
       "<style scoped>\n",
       "    .dataframe tbody tr th:only-of-type {\n",
       "        vertical-align: middle;\n",
       "    }\n",
       "\n",
       "    .dataframe tbody tr th {\n",
       "        vertical-align: top;\n",
       "    }\n",
       "\n",
       "    .dataframe thead th {\n",
       "        text-align: right;\n",
       "    }\n",
       "</style>\n",
       "<table border=\"1\" class=\"dataframe\">\n",
       "  <thead>\n",
       "    <tr style=\"text-align: right;\">\n",
       "      <th></th>\n",
       "      <th>Area</th>\n",
       "      <th>Code</th>\n",
       "      <th>Detached</th>\n",
       "      <th>Semi</th>\n",
       "      <th>Terraced</th>\n",
       "      <th>Flat</th>\n",
       "      <th>RegionName</th>\n",
       "      <th>Month</th>\n",
       "    </tr>\n",
       "  </thead>\n",
       "  <tbody>\n",
       "    <tr>\n",
       "      <th>0</th>\n",
       "      <td>Hartlepool</td>\n",
       "      <td>E06000001</td>\n",
       "      <td>179323.3934</td>\n",
       "      <td>108357.4457</td>\n",
       "      <td>77192.90613</td>\n",
       "      <td>62078.20672</td>\n",
       "      <td>North East</td>\n",
       "      <td>2016-09-01</td>\n",
       "    </tr>\n",
       "    <tr>\n",
       "      <th>1</th>\n",
       "      <td>Hartlepool</td>\n",
       "      <td>E06000001</td>\n",
       "      <td>178880.9745</td>\n",
       "      <td>107765.1346</td>\n",
       "      <td>76294.05974</td>\n",
       "      <td>61893.84174</td>\n",
       "      <td>North East</td>\n",
       "      <td>2016-10-01</td>\n",
       "    </tr>\n",
       "    <tr>\n",
       "      <th>2</th>\n",
       "      <td>Hartlepool</td>\n",
       "      <td>E06000001</td>\n",
       "      <td>179855.0608</td>\n",
       "      <td>107886.9468</td>\n",
       "      <td>76066.73993</td>\n",
       "      <td>61909.33647</td>\n",
       "      <td>North East</td>\n",
       "      <td>2016-11-01</td>\n",
       "    </tr>\n",
       "    <tr>\n",
       "      <th>3</th>\n",
       "      <td>Hartlepool</td>\n",
       "      <td>E06000001</td>\n",
       "      <td>182847.8194</td>\n",
       "      <td>109312.3743</td>\n",
       "      <td>77019.16134</td>\n",
       "      <td>62919.44401</td>\n",
       "      <td>North East</td>\n",
       "      <td>2016-12-01</td>\n",
       "    </tr>\n",
       "    <tr>\n",
       "      <th>4</th>\n",
       "      <td>Hartlepool</td>\n",
       "      <td>E06000001</td>\n",
       "      <td>177454.1433</td>\n",
       "      <td>105828.3642</td>\n",
       "      <td>74522.27530</td>\n",
       "      <td>60770.80795</td>\n",
       "      <td>North East</td>\n",
       "      <td>2017-01-01</td>\n",
       "    </tr>\n",
       "    <tr>\n",
       "      <th>...</th>\n",
       "      <td>...</td>\n",
       "      <td>...</td>\n",
       "      <td>...</td>\n",
       "      <td>...</td>\n",
       "      <td>...</td>\n",
       "      <td>...</td>\n",
       "      <td>...</td>\n",
       "      <td>...</td>\n",
       "    </tr>\n",
       "    <tr>\n",
       "      <th>5431</th>\n",
       "      <td>Worcestershire</td>\n",
       "      <td>E10000034</td>\n",
       "      <td>367609.8101</td>\n",
       "      <td>223579.8115</td>\n",
       "      <td>175790.42090</td>\n",
       "      <td>129009.66830</td>\n",
       "      <td>West Midlands</td>\n",
       "      <td>2019-04-01</td>\n",
       "    </tr>\n",
       "    <tr>\n",
       "      <th>5432</th>\n",
       "      <td>Worcestershire</td>\n",
       "      <td>E10000034</td>\n",
       "      <td>365271.8235</td>\n",
       "      <td>222863.2382</td>\n",
       "      <td>175373.24490</td>\n",
       "      <td>128117.93010</td>\n",
       "      <td>West Midlands</td>\n",
       "      <td>2019-05-01</td>\n",
       "    </tr>\n",
       "    <tr>\n",
       "      <th>5433</th>\n",
       "      <td>Worcestershire</td>\n",
       "      <td>E10000034</td>\n",
       "      <td>369772.6445</td>\n",
       "      <td>225435.2225</td>\n",
       "      <td>177094.03750</td>\n",
       "      <td>129593.06920</td>\n",
       "      <td>West Midlands</td>\n",
       "      <td>2019-06-01</td>\n",
       "    </tr>\n",
       "    <tr>\n",
       "      <th>5434</th>\n",
       "      <td>Worcestershire</td>\n",
       "      <td>E10000034</td>\n",
       "      <td>371129.2027</td>\n",
       "      <td>225763.4806</td>\n",
       "      <td>177371.34880</td>\n",
       "      <td>129684.34220</td>\n",
       "      <td>West Midlands</td>\n",
       "      <td>2019-07-01</td>\n",
       "    </tr>\n",
       "    <tr>\n",
       "      <th>5435</th>\n",
       "      <td>Worcestershire</td>\n",
       "      <td>E10000034</td>\n",
       "      <td>375018.4716</td>\n",
       "      <td>227014.1308</td>\n",
       "      <td>178440.82590</td>\n",
       "      <td>129242.39630</td>\n",
       "      <td>West Midlands</td>\n",
       "      <td>2019-08-01</td>\n",
       "    </tr>\n",
       "  </tbody>\n",
       "</table>\n",
       "<p>5436 rows × 8 columns</p>\n",
       "</div>"
      ],
      "text/plain": [
       "                Area       Code     Detached         Semi      Terraced  \\\n",
       "0         Hartlepool  E06000001  179323.3934  108357.4457   77192.90613   \n",
       "1         Hartlepool  E06000001  178880.9745  107765.1346   76294.05974   \n",
       "2         Hartlepool  E06000001  179855.0608  107886.9468   76066.73993   \n",
       "3         Hartlepool  E06000001  182847.8194  109312.3743   77019.16134   \n",
       "4         Hartlepool  E06000001  177454.1433  105828.3642   74522.27530   \n",
       "...              ...        ...          ...          ...           ...   \n",
       "5431  Worcestershire  E10000034  367609.8101  223579.8115  175790.42090   \n",
       "5432  Worcestershire  E10000034  365271.8235  222863.2382  175373.24490   \n",
       "5433  Worcestershire  E10000034  369772.6445  225435.2225  177094.03750   \n",
       "5434  Worcestershire  E10000034  371129.2027  225763.4806  177371.34880   \n",
       "5435  Worcestershire  E10000034  375018.4716  227014.1308  178440.82590   \n",
       "\n",
       "              Flat     RegionName      Month  \n",
       "0      62078.20672     North East 2016-09-01  \n",
       "1      61893.84174     North East 2016-10-01  \n",
       "2      61909.33647     North East 2016-11-01  \n",
       "3      62919.44401     North East 2016-12-01  \n",
       "4      60770.80795     North East 2017-01-01  \n",
       "...            ...            ...        ...  \n",
       "5431  129009.66830  West Midlands 2019-04-01  \n",
       "5432  128117.93010  West Midlands 2019-05-01  \n",
       "5433  129593.06920  West Midlands 2019-06-01  \n",
       "5434  129684.34220  West Midlands 2019-07-01  \n",
       "5435  129242.39630  West Midlands 2019-08-01  \n",
       "\n",
       "[5436 rows x 8 columns]"
      ]
     },
     "execution_count": 15,
     "metadata": {},
     "output_type": "execute_result"
    }
   ],
   "source": [
    "df_area = df_area.assign(Month = pd.to_datetime(\n",
    "df_area['Date'], dayfirst=True)).drop(labels='Date', axis=1)\n",
    "df_area"
   ]
  },
  {
   "cell_type": "code",
   "execution_count": 65,
   "id": "45e41962",
   "metadata": {},
   "outputs": [
    {
     "data": {
      "text/html": [
       "<div>\n",
       "<style scoped>\n",
       "    .dataframe tbody tr th:only-of-type {\n",
       "        vertical-align: middle;\n",
       "    }\n",
       "\n",
       "    .dataframe tbody tr th {\n",
       "        vertical-align: top;\n",
       "    }\n",
       "\n",
       "    .dataframe thead th {\n",
       "        text-align: right;\n",
       "    }\n",
       "</style>\n",
       "<table border=\"1\" class=\"dataframe\">\n",
       "  <thead>\n",
       "    <tr style=\"text-align: right;\">\n",
       "      <th></th>\n",
       "      <th>Area</th>\n",
       "      <th>Flat_x</th>\n",
       "      <th>RegionName</th>\n",
       "      <th>Flat_y</th>\n",
       "    </tr>\n",
       "  </thead>\n",
       "  <tbody>\n",
       "    <tr>\n",
       "      <th>0</th>\n",
       "      <td>Hartlepool</td>\n",
       "      <td>65007.84170</td>\n",
       "      <td>North East</td>\n",
       "      <td>61116.82158</td>\n",
       "    </tr>\n",
       "    <tr>\n",
       "      <th>1</th>\n",
       "      <td>Middlesbrough</td>\n",
       "      <td>69163.06963</td>\n",
       "      <td>North East</td>\n",
       "      <td>69313.90788</td>\n",
       "    </tr>\n",
       "    <tr>\n",
       "      <th>2</th>\n",
       "      <td>Redcar and Cleveland</td>\n",
       "      <td>65507.80990</td>\n",
       "      <td>North East</td>\n",
       "      <td>64802.79724</td>\n",
       "    </tr>\n",
       "    <tr>\n",
       "      <th>3</th>\n",
       "      <td>Stockton-on-Tees</td>\n",
       "      <td>83599.32806</td>\n",
       "      <td>North East</td>\n",
       "      <td>83654.55272</td>\n",
       "    </tr>\n",
       "    <tr>\n",
       "      <th>4</th>\n",
       "      <td>Darlington</td>\n",
       "      <td>87041.37973</td>\n",
       "      <td>North East</td>\n",
       "      <td>83679.31818</td>\n",
       "    </tr>\n",
       "  </tbody>\n",
       "</table>\n",
       "</div>"
      ],
      "text/plain": [
       "                   Area       Flat_x  RegionName       Flat_y\n",
       "0            Hartlepool  65007.84170  North East  61116.82158\n",
       "1         Middlesbrough  69163.06963  North East  69313.90788\n",
       "2  Redcar and Cleveland  65507.80990  North East  64802.79724\n",
       "3      Stockton-on-Tees  83599.32806  North East  83654.55272\n",
       "4            Darlington  87041.37973  North East  83679.31818"
      ]
     },
     "execution_count": 65,
     "metadata": {},
     "output_type": "execute_result"
    }
   ],
   "source": [
    "x = df_area[df_area['Month'] == '2017-07-01']\n",
    "y = df_area[df_area['Month'] == '2018-07-01']\n",
    "x1 = x[['Area', 'Flat','RegionName']]\n",
    "y1 = y[['Area', 'Flat',]]\n",
    "x1 = x1.merge(y1, on='Area')\n",
    "x1.head()"
   ]
  },
  {
   "cell_type": "code",
   "execution_count": 66,
   "id": "7936e660",
   "metadata": {},
   "outputs": [
    {
     "data": {
      "text/html": [
       "<div>\n",
       "<style scoped>\n",
       "    .dataframe tbody tr th:only-of-type {\n",
       "        vertical-align: middle;\n",
       "    }\n",
       "\n",
       "    .dataframe tbody tr th {\n",
       "        vertical-align: top;\n",
       "    }\n",
       "\n",
       "    .dataframe thead th {\n",
       "        text-align: right;\n",
       "    }\n",
       "</style>\n",
       "<table border=\"1\" class=\"dataframe\">\n",
       "  <thead>\n",
       "    <tr style=\"text-align: right;\">\n",
       "      <th></th>\n",
       "      <th>RegionName</th>\n",
       "      <th>Area</th>\n",
       "      <th>Flat_x</th>\n",
       "      <th>Flat_y</th>\n",
       "      <th>Difference</th>\n",
       "    </tr>\n",
       "  </thead>\n",
       "  <tbody>\n",
       "    <tr>\n",
       "      <th>0</th>\n",
       "      <td>North East</td>\n",
       "      <td>Hartlepool</td>\n",
       "      <td>65007.84170</td>\n",
       "      <td>61116.82158</td>\n",
       "      <td>-3891.02012</td>\n",
       "    </tr>\n",
       "    <tr>\n",
       "      <th>1</th>\n",
       "      <td>North East</td>\n",
       "      <td>Middlesbrough</td>\n",
       "      <td>69163.06963</td>\n",
       "      <td>69313.90788</td>\n",
       "      <td>150.83825</td>\n",
       "    </tr>\n",
       "    <tr>\n",
       "      <th>2</th>\n",
       "      <td>North East</td>\n",
       "      <td>Redcar and Cleveland</td>\n",
       "      <td>65507.80990</td>\n",
       "      <td>64802.79724</td>\n",
       "      <td>-705.01266</td>\n",
       "    </tr>\n",
       "    <tr>\n",
       "      <th>3</th>\n",
       "      <td>North East</td>\n",
       "      <td>Stockton-on-Tees</td>\n",
       "      <td>83599.32806</td>\n",
       "      <td>83654.55272</td>\n",
       "      <td>55.22466</td>\n",
       "    </tr>\n",
       "    <tr>\n",
       "      <th>4</th>\n",
       "      <td>North East</td>\n",
       "      <td>Darlington</td>\n",
       "      <td>87041.37973</td>\n",
       "      <td>83679.31818</td>\n",
       "      <td>-3362.06155</td>\n",
       "    </tr>\n",
       "    <tr>\n",
       "      <th>...</th>\n",
       "      <td>...</td>\n",
       "      <td>...</td>\n",
       "      <td>...</td>\n",
       "      <td>...</td>\n",
       "      <td>...</td>\n",
       "    </tr>\n",
       "    <tr>\n",
       "      <th>146</th>\n",
       "      <td>East of England</td>\n",
       "      <td>Suffolk</td>\n",
       "      <td>140278.18370</td>\n",
       "      <td>142488.46480</td>\n",
       "      <td>2210.28110</td>\n",
       "    </tr>\n",
       "    <tr>\n",
       "      <th>147</th>\n",
       "      <td>South East</td>\n",
       "      <td>Surrey</td>\n",
       "      <td>270116.52610</td>\n",
       "      <td>267144.69100</td>\n",
       "      <td>-2971.83510</td>\n",
       "    </tr>\n",
       "    <tr>\n",
       "      <th>148</th>\n",
       "      <td>West Midlands</td>\n",
       "      <td>Warwickshire</td>\n",
       "      <td>165676.94800</td>\n",
       "      <td>167470.71860</td>\n",
       "      <td>1793.77060</td>\n",
       "    </tr>\n",
       "    <tr>\n",
       "      <th>149</th>\n",
       "      <td>South East</td>\n",
       "      <td>West Sussex</td>\n",
       "      <td>193547.45490</td>\n",
       "      <td>191835.79530</td>\n",
       "      <td>-1711.65960</td>\n",
       "    </tr>\n",
       "    <tr>\n",
       "      <th>150</th>\n",
       "      <td>West Midlands</td>\n",
       "      <td>Worcestershire</td>\n",
       "      <td>127758.55150</td>\n",
       "      <td>127751.56660</td>\n",
       "      <td>-6.98490</td>\n",
       "    </tr>\n",
       "  </tbody>\n",
       "</table>\n",
       "<p>151 rows × 5 columns</p>\n",
       "</div>"
      ],
      "text/plain": [
       "          RegionName                  Area        Flat_x        Flat_y  \\\n",
       "0         North East            Hartlepool   65007.84170   61116.82158   \n",
       "1         North East         Middlesbrough   69163.06963   69313.90788   \n",
       "2         North East  Redcar and Cleveland   65507.80990   64802.79724   \n",
       "3         North East      Stockton-on-Tees   83599.32806   83654.55272   \n",
       "4         North East            Darlington   87041.37973   83679.31818   \n",
       "..               ...                   ...           ...           ...   \n",
       "146  East of England               Suffolk  140278.18370  142488.46480   \n",
       "147       South East                Surrey  270116.52610  267144.69100   \n",
       "148    West Midlands          Warwickshire  165676.94800  167470.71860   \n",
       "149       South East           West Sussex  193547.45490  191835.79530   \n",
       "150    West Midlands        Worcestershire  127758.55150  127751.56660   \n",
       "\n",
       "     Difference  \n",
       "0   -3891.02012  \n",
       "1     150.83825  \n",
       "2    -705.01266  \n",
       "3      55.22466  \n",
       "4   -3362.06155  \n",
       "..          ...  \n",
       "146  2210.28110  \n",
       "147 -2971.83510  \n",
       "148  1793.77060  \n",
       "149 -1711.65960  \n",
       "150    -6.98490  \n",
       "\n",
       "[151 rows x 5 columns]"
      ]
     },
     "execution_count": 66,
     "metadata": {},
     "output_type": "execute_result"
    }
   ],
   "source": [
    "df_flat = df_flat.assign(Difference = df_flat.Flat_y - df_flat.Flat_x)\n",
    "df_flat"
   ]
  },
  {
   "cell_type": "markdown",
   "id": "652d6d9c",
   "metadata": {},
   "source": [
    "## PLOTTING THE CHANGE IN AREA PRICES IN EACH REGION"
   ]
  },
  {
   "cell_type": "code",
   "execution_count": 40,
   "id": "d7098ca7",
   "metadata": {},
   "outputs": [
    {
     "data": {
      "text/plain": [
       "<AxesSubplot:xlabel='Difference', ylabel='RegionName'>"
      ]
     },
     "execution_count": 40,
     "metadata": {},
     "output_type": "execute_result"
    },
    {
     "data": {
      "image/png": "[encoded data removed]",
      "text/plain": [
       "<Figure size 432x288 with 1 Axes>"
      ]
     },
     "metadata": {
      "needs_background": "light"
     },
     "output_type": "display_data"
    }
   ],
   "source": [
    "sns.scatterplot(x='Difference',y='RegionName', data=df_flat)"
   ]
  },
  {
   "cell_type": "markdown",
   "id": "15ce0268",
   "metadata": {},
   "source": [
    "## CONCLUSION"
   ]
  },
  {
   "cell_type": "markdown",
   "id": "fd5e56b8",
   "metadata": {},
   "source": [
    "The scatter plot shows the price difference in each region in the month of july 2017 and july 2018. Our objective is to\n",
    "obtain the price change in that month for each year and there are price ups and downs for the each region. There is\n",
    "a more price drop in London than other regions with the range of 20000 to 90000 approx of price drops. And London prices was\n",
    "high upto 20000 in july 2017. And other region got more or less similar prices difference with not that much of a change in those Months.\n"
   ]
  },
  {
   "cell_type": "markdown",
   "id": "e5950d27",
   "metadata": {},
   "source": [
    "## PART 4 : STATISTICAL ANALYSIS"
   ]
  },
  {
   "cell_type": "code",
   "execution_count": 63,
   "id": "941fcf4b",
   "metadata": {},
   "outputs": [
    {
     "data": {
      "text/html": [
       "<div>\n",
       "<style scoped>\n",
       "    .dataframe tbody tr th:only-of-type {\n",
       "        vertical-align: middle;\n",
       "    }\n",
       "\n",
       "    .dataframe tbody tr th {\n",
       "        vertical-align: top;\n",
       "    }\n",
       "\n",
       "    .dataframe thead th {\n",
       "        text-align: right;\n",
       "    }\n",
       "</style>\n",
       "<table border=\"1\" class=\"dataframe\">\n",
       "  <thead>\n",
       "    <tr style=\"text-align: right;\">\n",
       "      <th></th>\n",
       "      <th>RegionName</th>\n",
       "      <th>Area</th>\n",
       "      <th>Difference</th>\n",
       "      <th>Change</th>\n",
       "    </tr>\n",
       "  </thead>\n",
       "  <tbody>\n",
       "    <tr>\n",
       "      <th>0</th>\n",
       "      <td>North East</td>\n",
       "      <td>Hartlepool</td>\n",
       "      <td>-3891.02012</td>\n",
       "      <td>Decrease</td>\n",
       "    </tr>\n",
       "    <tr>\n",
       "      <th>1</th>\n",
       "      <td>North East</td>\n",
       "      <td>Middlesbrough</td>\n",
       "      <td>150.83825</td>\n",
       "      <td>Increase</td>\n",
       "    </tr>\n",
       "    <tr>\n",
       "      <th>2</th>\n",
       "      <td>North East</td>\n",
       "      <td>Redcar and Cleveland</td>\n",
       "      <td>-705.01266</td>\n",
       "      <td>Decrease</td>\n",
       "    </tr>\n",
       "    <tr>\n",
       "      <th>3</th>\n",
       "      <td>North East</td>\n",
       "      <td>Stockton-on-Tees</td>\n",
       "      <td>55.22466</td>\n",
       "      <td>Increase</td>\n",
       "    </tr>\n",
       "    <tr>\n",
       "      <th>4</th>\n",
       "      <td>North East</td>\n",
       "      <td>Darlington</td>\n",
       "      <td>-3362.06155</td>\n",
       "      <td>Decrease</td>\n",
       "    </tr>\n",
       "    <tr>\n",
       "      <th>...</th>\n",
       "      <td>...</td>\n",
       "      <td>...</td>\n",
       "      <td>...</td>\n",
       "      <td>...</td>\n",
       "    </tr>\n",
       "    <tr>\n",
       "      <th>146</th>\n",
       "      <td>East of England</td>\n",
       "      <td>Suffolk</td>\n",
       "      <td>2210.28110</td>\n",
       "      <td>Increase</td>\n",
       "    </tr>\n",
       "    <tr>\n",
       "      <th>147</th>\n",
       "      <td>South East</td>\n",
       "      <td>Surrey</td>\n",
       "      <td>-2971.83510</td>\n",
       "      <td>Decrease</td>\n",
       "    </tr>\n",
       "    <tr>\n",
       "      <th>148</th>\n",
       "      <td>West Midlands</td>\n",
       "      <td>Warwickshire</td>\n",
       "      <td>1793.77060</td>\n",
       "      <td>Increase</td>\n",
       "    </tr>\n",
       "    <tr>\n",
       "      <th>149</th>\n",
       "      <td>South East</td>\n",
       "      <td>West Sussex</td>\n",
       "      <td>-1711.65960</td>\n",
       "      <td>Decrease</td>\n",
       "    </tr>\n",
       "    <tr>\n",
       "      <th>150</th>\n",
       "      <td>West Midlands</td>\n",
       "      <td>Worcestershire</td>\n",
       "      <td>-6.98490</td>\n",
       "      <td>Decrease</td>\n",
       "    </tr>\n",
       "  </tbody>\n",
       "</table>\n",
       "<p>151 rows × 4 columns</p>\n",
       "</div>"
      ],
      "text/plain": [
       "          RegionName                  Area  Difference    Change\n",
       "0         North East            Hartlepool -3891.02012  Decrease\n",
       "1         North East         Middlesbrough   150.83825  Increase\n",
       "2         North East  Redcar and Cleveland  -705.01266  Decrease\n",
       "3         North East      Stockton-on-Tees    55.22466  Increase\n",
       "4         North East            Darlington -3362.06155  Decrease\n",
       "..               ...                   ...         ...       ...\n",
       "146  East of England               Suffolk  2210.28110  Increase\n",
       "147       South East                Surrey -2971.83510  Decrease\n",
       "148    West Midlands          Warwickshire  1793.77060  Increase\n",
       "149       South East           West Sussex -1711.65960  Decrease\n",
       "150    West Midlands        Worcestershire    -6.98490  Decrease\n",
       "\n",
       "[151 rows x 4 columns]"
      ]
     },
     "execution_count": 63,
     "metadata": {},
     "output_type": "execute_result"
    }
   ],
   "source": [
    "df_change=df_flat[['RegionName','Area','Difference']]\n",
    "def changes(row):\n",
    "    if row.Difference>0:\n",
    "        return 'Increase'\n",
    "    elif row.Difference <0:\n",
    "        return 'Decrease'\n",
    "df_change=df_change.assign(Change=df_change.apply(changes,axis=1))  \n",
    "df_change"
   ]
  },
  {
   "cell_type": "markdown",
   "id": "8e53a707",
   "metadata": {},
   "source": [
    "## CROSS TABULATION"
   ]
  },
  {
   "cell_type": "code",
   "execution_count": 52,
   "id": "8a7a8ac7",
   "metadata": {},
   "outputs": [
    {
     "data": {
      "text/html": [
       "<div>\n",
       "<style scoped>\n",
       "    .dataframe tbody tr th:only-of-type {\n",
       "        vertical-align: middle;\n",
       "    }\n",
       "\n",
       "    .dataframe tbody tr th {\n",
       "        vertical-align: top;\n",
       "    }\n",
       "\n",
       "    .dataframe thead th {\n",
       "        text-align: right;\n",
       "    }\n",
       "</style>\n",
       "<table border=\"1\" class=\"dataframe\">\n",
       "  <thead>\n",
       "    <tr style=\"text-align: right;\">\n",
       "      <th>RegionName</th>\n",
       "      <th>East Midlands</th>\n",
       "      <th>East of England</th>\n",
       "      <th>London</th>\n",
       "      <th>North East</th>\n",
       "      <th>North West</th>\n",
       "      <th>South East</th>\n",
       "      <th>South West</th>\n",
       "      <th>West Midlands</th>\n",
       "      <th>Yorkshire and The Humber</th>\n",
       "    </tr>\n",
       "    <tr>\n",
       "      <th>Change</th>\n",
       "      <th></th>\n",
       "      <th></th>\n",
       "      <th></th>\n",
       "      <th></th>\n",
       "      <th></th>\n",
       "      <th></th>\n",
       "      <th></th>\n",
       "      <th></th>\n",
       "      <th></th>\n",
       "    </tr>\n",
       "  </thead>\n",
       "  <tbody>\n",
       "    <tr>\n",
       "      <th>Decrease</th>\n",
       "      <td>0</td>\n",
       "      <td>5</td>\n",
       "      <td>23</td>\n",
       "      <td>9</td>\n",
       "      <td>12</td>\n",
       "      <td>13</td>\n",
       "      <td>6</td>\n",
       "      <td>2</td>\n",
       "      <td>7</td>\n",
       "    </tr>\n",
       "    <tr>\n",
       "      <th>Increase</th>\n",
       "      <td>9</td>\n",
       "      <td>6</td>\n",
       "      <td>10</td>\n",
       "      <td>3</td>\n",
       "      <td>11</td>\n",
       "      <td>6</td>\n",
       "      <td>9</td>\n",
       "      <td>12</td>\n",
       "      <td>8</td>\n",
       "    </tr>\n",
       "  </tbody>\n",
       "</table>\n",
       "</div>"
      ],
      "text/plain": [
       "RegionName  East Midlands  East of England  London  North East  North West  \\\n",
       "Change                                                                       \n",
       "Decrease                0                5      23           9          12   \n",
       "Increase                9                6      10           3          11   \n",
       "\n",
       "RegionName  South East  South West  West Midlands  Yorkshire and The Humber  \n",
       "Change                                                                       \n",
       "Decrease            13           6              2                         7  \n",
       "Increase             6           9             12                         8  "
      ]
     },
     "execution_count": 52,
     "metadata": {},
     "output_type": "execute_result"
    }
   ],
   "source": [
    "df_change = pd.crosstab(df_change.Change, [df_change.RegionName])\n",
    "df_change"
   ]
  },
  {
   "cell_type": "markdown",
   "id": "1fe8d601",
   "metadata": {},
   "source": [
    "## Chi-square Test\n",
    "\n",
    "Our objective is to find whether there is achange in price in each area with respective region or not with the use \n",
    "of Chi-square test.\n",
    "\n",
    "Assuming the price change in different areas are independent of which then region the area begongs , Using Chi-square test\n",
    "Now, this is our null hypothesis."
   ]
  },
  {
   "cell_type": "code",
   "execution_count": 58,
   "id": "fdd66616",
   "metadata": {},
   "outputs": [
    {
     "name": "stdout",
     "output_type": "stream",
     "text": [
      "There are 8 degrees of freedom\n",
      "The chi-squared test statistic is 27.60\n",
      "The p-value is 0.056 %\n"
     ]
    }
   ],
   "source": [
    "test_stat, p_value, dof, expected = stats.chi2_contingency(df_change, correction=False)\n",
    "\n",
    "print('There are %d degrees of freedom' % dof)\n",
    "print('The chi-squared test statistic is %4.2f' % test_stat)\n",
    "print('The p-value is %4.3f %%' % (100 * p_value))"
   ]
  },
  {
   "cell_type": "markdown",
   "id": "8990040b",
   "metadata": {},
   "source": [
    "Given the p-value, we can reject the null hypothesis, with the table of chi-square distribution and we can conclude that\n",
    "the both features are dependent and are highly correlated with each other."
   ]
  }
 ],
 "metadata": {
  "kernelspec": {
   "display_name": "Python 3",
   "language": "python",
   "name": "python3"
  },
  "language_info": {
   "codemirror_mode": {
    "name": "ipython",
    "version": 3
   },
   "file_extension": ".py",
   "mimetype": "text/x-python",
   "name": "python",
   "nbconvert_exporter": "python",
   "pygments_lexer": "ipython3",
   "version": "3.8.8"
  }
 },
 "nbformat": 4,
 "nbformat_minor": 5
}
